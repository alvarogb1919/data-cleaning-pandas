{
 "cells": [
  {
   "cell_type": "markdown",
   "id": "161b1df1",
   "metadata": {},
   "source": [
    "#### A partir del notebook \"Clean\" voy a mostrar los datos relevantes para las conclusiones sobre los ataques de tiburones ocurridos en distintas actividades"
   ]
  },
  {
   "cell_type": "code",
   "execution_count": 1,
   "id": "fbec64f4",
   "metadata": {},
   "outputs": [],
   "source": [
    "import pandas as pd\n",
    "import numpy as np\n",
    "import seaborn as sns"
   ]
  },
  {
   "cell_type": "code",
   "execution_count": 2,
   "id": "e9663687",
   "metadata": {},
   "outputs": [],
   "source": [
    "sharks_data_clean = pd.read_csv(\"./Sharks_attack_clean.csv\", encoding=\"ISO-8859-1\")"
   ]
  },
  {
   "cell_type": "code",
   "execution_count": 3,
   "id": "7195009e",
   "metadata": {},
   "outputs": [
    {
     "data": {
      "text/html": [
       "<div>\n",
       "<style scoped>\n",
       "    .dataframe tbody tr th:only-of-type {\n",
       "        vertical-align: middle;\n",
       "    }\n",
       "\n",
       "    .dataframe tbody tr th {\n",
       "        vertical-align: top;\n",
       "    }\n",
       "\n",
       "    .dataframe thead th {\n",
       "        text-align: right;\n",
       "    }\n",
       "</style>\n",
       "<table border=\"1\" class=\"dataframe\">\n",
       "  <thead>\n",
       "    <tr style=\"text-align: right;\">\n",
       "      <th></th>\n",
       "      <th>Unnamed: 0</th>\n",
       "      <th>Date</th>\n",
       "      <th>Country</th>\n",
       "      <th>Area</th>\n",
       "      <th>Location</th>\n",
       "      <th>Activity</th>\n",
       "      <th>Sex</th>\n",
       "      <th>Age</th>\n",
       "      <th>Fatal (Y/N)</th>\n",
       "      <th>Species</th>\n",
       "      <th>Year_clean</th>\n",
       "    </tr>\n",
       "  </thead>\n",
       "  <tbody>\n",
       "    <tr>\n",
       "      <th>0</th>\n",
       "      <td>0</td>\n",
       "      <td>25-Jun-2018</td>\n",
       "      <td>USA</td>\n",
       "      <td>California</td>\n",
       "      <td>Oceanside, San Diego County</td>\n",
       "      <td>Paddling</td>\n",
       "      <td>F</td>\n",
       "      <td>57</td>\n",
       "      <td>N</td>\n",
       "      <td>White shark</td>\n",
       "      <td>2018</td>\n",
       "    </tr>\n",
       "    <tr>\n",
       "      <th>1</th>\n",
       "      <td>1</td>\n",
       "      <td>18-Jun-2018</td>\n",
       "      <td>USA</td>\n",
       "      <td>Georgia</td>\n",
       "      <td>St. Simon Island, Glynn County</td>\n",
       "      <td>Standing</td>\n",
       "      <td>F</td>\n",
       "      <td>11</td>\n",
       "      <td>N</td>\n",
       "      <td>NaN</td>\n",
       "      <td>2018</td>\n",
       "    </tr>\n",
       "    <tr>\n",
       "      <th>2</th>\n",
       "      <td>2</td>\n",
       "      <td>09-Jun-2018</td>\n",
       "      <td>USA</td>\n",
       "      <td>Hawaii</td>\n",
       "      <td>Habush, Oahu</td>\n",
       "      <td>Surfing</td>\n",
       "      <td>M</td>\n",
       "      <td>48</td>\n",
       "      <td>N</td>\n",
       "      <td>NaN</td>\n",
       "      <td>2018</td>\n",
       "    </tr>\n",
       "    <tr>\n",
       "      <th>3</th>\n",
       "      <td>3</td>\n",
       "      <td>08-Jun-2018</td>\n",
       "      <td>AUSTRALIA</td>\n",
       "      <td>New South Wales</td>\n",
       "      <td>Arrawarra Headland</td>\n",
       "      <td>Surfing</td>\n",
       "      <td>M</td>\n",
       "      <td>NaN</td>\n",
       "      <td>N</td>\n",
       "      <td>2 m shark</td>\n",
       "      <td>2018</td>\n",
       "    </tr>\n",
       "    <tr>\n",
       "      <th>4</th>\n",
       "      <td>4</td>\n",
       "      <td>04-Jun-2018</td>\n",
       "      <td>MEXICO</td>\n",
       "      <td>Colima</td>\n",
       "      <td>La Ticla</td>\n",
       "      <td>Free diving</td>\n",
       "      <td>M</td>\n",
       "      <td>NaN</td>\n",
       "      <td>N</td>\n",
       "      <td>Tiger shark, 3m</td>\n",
       "      <td>2018</td>\n",
       "    </tr>\n",
       "  </tbody>\n",
       "</table>\n",
       "</div>"
      ],
      "text/plain": [
       "   Unnamed: 0         Date    Country             Area  \\\n",
       "0           0  25-Jun-2018        USA       California   \n",
       "1           1  18-Jun-2018        USA          Georgia   \n",
       "2           2  09-Jun-2018        USA           Hawaii   \n",
       "3           3  08-Jun-2018  AUSTRALIA  New South Wales   \n",
       "4           4  04-Jun-2018     MEXICO           Colima   \n",
       "\n",
       "                         Location     Activity Sex   Age Fatal (Y/N)  \\\n",
       "0     Oceanside, San Diego County     Paddling    F   57           N   \n",
       "1  St. Simon Island, Glynn County     Standing    F   11           N   \n",
       "2                    Habush, Oahu      Surfing    M   48           N   \n",
       "3              Arrawarra Headland      Surfing    M  NaN           N   \n",
       "4                        La Ticla  Free diving    M  NaN           N   \n",
       "\n",
       "          Species  Year_clean  \n",
       "0      White shark       2018  \n",
       "1              NaN       2018  \n",
       "2              NaN       2018  \n",
       "3        2 m shark       2018  \n",
       "4  Tiger shark, 3m       2018  "
      ]
     },
     "execution_count": 3,
     "metadata": {},
     "output_type": "execute_result"
    }
   ],
   "source": [
    "sharks_data_clean.head()"
   ]
  },
  {
   "cell_type": "markdown",
   "id": "724d1666",
   "metadata": {},
   "source": [
    "#### Ligera limpieza para quitar la nueva columna unnamed"
   ]
  },
  {
   "cell_type": "code",
   "execution_count": 4,
   "id": "7f210d56",
   "metadata": {},
   "outputs": [],
   "source": [
    "sharks_data_clean.drop([\"Unnamed: 0\"], axis=1, inplace=True)"
   ]
  },
  {
   "cell_type": "markdown",
   "id": "af93dc93",
   "metadata": {},
   "source": [
    "#### A partir de aqui, voy a analizar las distintas actividades. Inicialmente creo que lo más efectivo es concluir cuantas actividades distintas hay incluidas y a partir de ahi seguir"
   ]
  },
  {
   "cell_type": "code",
   "execution_count": 5,
   "id": "ce940540",
   "metadata": {},
   "outputs": [
    {
     "data": {
      "text/plain": [
       "Surfing                                                                                                                                                                                                   971\n",
       "Swimming                                                                                                                                                                                                  869\n",
       "Fishing                                                                                                                                                                                                   431\n",
       "Spearfishing                                                                                                                                                                                              333\n",
       "Bathing                                                                                                                                                                                                   162\n",
       "                                                                                                                                                                                                         ... \n",
       "Fishing for red fish                                                                                                                                                                                        1\n",
       "Floating in tube                                                                                                                                                                                            1\n",
       "The troopship Britannia was sunk by the German raider Thor                                                                                                                                                  1\n",
       "Known as The Battle of the Bismarck Sea :  8 Japanese destroyers guarding a convoy of 8 transports were attacked by 129 Allied fighters, 207 bombers & 3 squadrons of the Royal Australian Air Force.       1\n",
       "Lying prone in 2' of water                                                                                                                                                                                  1\n",
       "Name: Activity, Length: 1532, dtype: int64"
      ]
     },
     "execution_count": 5,
     "metadata": {},
     "output_type": "execute_result"
    }
   ],
   "source": [
    "sharks_data_clean.Activity.value_counts()"
   ]
  },
  {
   "cell_type": "code",
   "execution_count": 6,
   "id": "3f3f4886",
   "metadata": {},
   "outputs": [
    {
     "data": {
      "text/plain": [
       "(6302, 10)"
      ]
     },
     "execution_count": 6,
     "metadata": {},
     "output_type": "execute_result"
    }
   ],
   "source": [
    "sharks_data_clean.shape"
   ]
  },
  {
   "cell_type": "markdown",
   "id": "b28618fa",
   "metadata": {},
   "source": [
    "#### Gracias a la función value_counts, se puede observar que hay más de 1,500 actividades distintas pero que la gran mayoría se concentran en el top 5. Desde un punto de vista analitico y para mayor sencillez voy a generar un dataframe sólo con los registros top 5 y también para que a la hora de visualizar los resultados sea más cómodo"
   ]
  },
  {
   "cell_type": "code",
   "execution_count": 12,
   "id": "a180e6b0",
   "metadata": {},
   "outputs": [],
   "source": [
    "sharks_data_clean_filtered = sharks_data_clean.loc[(sharks_data_clean[\"Activity\"] == \"Surfing\") | (sharks_data_clean[\"Activity\"] == \"Swimming\") | (sharks_data_clean[\"Activity\"] == \"Fishing\") | (sharks_data_clean[\"Activity\"] == \"Spearfishing\") | (sharks_data_clean[\"Activity\"] == \"Bathing\")]"
   ]
  },
  {
   "cell_type": "code",
   "execution_count": 22,
   "id": "a55d8dfd",
   "metadata": {},
   "outputs": [],
   "source": [
    "sharks_data_clean_filtered.reset_index(inplace=True)"
   ]
  },
  {
   "cell_type": "code",
   "execution_count": 24,
   "id": "88d33a1b",
   "metadata": {},
   "outputs": [
    {
     "data": {
      "text/html": [
       "<div>\n",
       "<style scoped>\n",
       "    .dataframe tbody tr th:only-of-type {\n",
       "        vertical-align: middle;\n",
       "    }\n",
       "\n",
       "    .dataframe tbody tr th {\n",
       "        vertical-align: top;\n",
       "    }\n",
       "\n",
       "    .dataframe thead th {\n",
       "        text-align: right;\n",
       "    }\n",
       "</style>\n",
       "<table border=\"1\" class=\"dataframe\">\n",
       "  <thead>\n",
       "    <tr style=\"text-align: right;\">\n",
       "      <th></th>\n",
       "      <th>level_0</th>\n",
       "      <th>index</th>\n",
       "      <th>Date</th>\n",
       "      <th>Country</th>\n",
       "      <th>Area</th>\n",
       "      <th>Location</th>\n",
       "      <th>Activity</th>\n",
       "      <th>Sex</th>\n",
       "      <th>Age</th>\n",
       "      <th>Fatal (Y/N)</th>\n",
       "      <th>Species</th>\n",
       "      <th>Year_clean</th>\n",
       "    </tr>\n",
       "  </thead>\n",
       "  <tbody>\n",
       "    <tr>\n",
       "      <th>0</th>\n",
       "      <td>0</td>\n",
       "      <td>2</td>\n",
       "      <td>09-Jun-2018</td>\n",
       "      <td>USA</td>\n",
       "      <td>Hawaii</td>\n",
       "      <td>Habush, Oahu</td>\n",
       "      <td>Surfing</td>\n",
       "      <td>M</td>\n",
       "      <td>48</td>\n",
       "      <td>N</td>\n",
       "      <td>NaN</td>\n",
       "      <td>2018</td>\n",
       "    </tr>\n",
       "    <tr>\n",
       "      <th>1</th>\n",
       "      <td>1</td>\n",
       "      <td>3</td>\n",
       "      <td>08-Jun-2018</td>\n",
       "      <td>AUSTRALIA</td>\n",
       "      <td>New South Wales</td>\n",
       "      <td>Arrawarra Headland</td>\n",
       "      <td>Surfing</td>\n",
       "      <td>M</td>\n",
       "      <td>NaN</td>\n",
       "      <td>N</td>\n",
       "      <td>2 m shark</td>\n",
       "      <td>2018</td>\n",
       "    </tr>\n",
       "    <tr>\n",
       "      <th>2</th>\n",
       "      <td>2</td>\n",
       "      <td>6</td>\n",
       "      <td>03-Jun-2018</td>\n",
       "      <td>BRAZIL</td>\n",
       "      <td>Pernambuco</td>\n",
       "      <td>Piedade Beach, Recife</td>\n",
       "      <td>Swimming</td>\n",
       "      <td>M</td>\n",
       "      <td>18</td>\n",
       "      <td>Y</td>\n",
       "      <td>Tiger shark</td>\n",
       "      <td>2018</td>\n",
       "    </tr>\n",
       "    <tr>\n",
       "      <th>3</th>\n",
       "      <td>3</td>\n",
       "      <td>7</td>\n",
       "      <td>27-May-2018</td>\n",
       "      <td>USA</td>\n",
       "      <td>Florida</td>\n",
       "      <td>Lighhouse Point Park, Ponce Inlet, Volusia County</td>\n",
       "      <td>Fishing</td>\n",
       "      <td>M</td>\n",
       "      <td>52</td>\n",
       "      <td>N</td>\n",
       "      <td>Lemon shark, 3'</td>\n",
       "      <td>2018</td>\n",
       "    </tr>\n",
       "    <tr>\n",
       "      <th>4</th>\n",
       "      <td>4</td>\n",
       "      <td>12</td>\n",
       "      <td>13-May-2018</td>\n",
       "      <td>USA</td>\n",
       "      <td>South Carolina</td>\n",
       "      <td>Hilton Head Island, Beaufort County</td>\n",
       "      <td>Swimming</td>\n",
       "      <td>M</td>\n",
       "      <td>10</td>\n",
       "      <td>N</td>\n",
       "      <td>NaN</td>\n",
       "      <td>2018</td>\n",
       "    </tr>\n",
       "  </tbody>\n",
       "</table>\n",
       "</div>"
      ],
      "text/plain": [
       "   level_0  index         Date    Country             Area  \\\n",
       "0        0      2  09-Jun-2018        USA           Hawaii   \n",
       "1        1      3  08-Jun-2018  AUSTRALIA  New South Wales   \n",
       "2        2      6  03-Jun-2018     BRAZIL       Pernambuco   \n",
       "3        3      7  27-May-2018        USA          Florida   \n",
       "4        4     12  13-May-2018        USA   South Carolina   \n",
       "\n",
       "                                            Location  Activity Sex   Age  \\\n",
       "0                                       Habush, Oahu   Surfing    M   48   \n",
       "1                                 Arrawarra Headland   Surfing    M  NaN   \n",
       "2                              Piedade Beach, Recife  Swimming    M   18   \n",
       "3  Lighhouse Point Park, Ponce Inlet, Volusia County   Fishing    M   52   \n",
       "4                Hilton Head Island, Beaufort County  Swimming    M   10   \n",
       "\n",
       "  Fatal (Y/N)         Species  Year_clean  \n",
       "0           N              NaN       2018  \n",
       "1           N        2 m shark       2018  \n",
       "2           Y      Tiger shark       2018  \n",
       "3           N  Lemon shark, 3'       2018  \n",
       "4           N              NaN       2018  "
      ]
     },
     "execution_count": 24,
     "metadata": {},
     "output_type": "execute_result"
    }
   ],
   "source": [
    "sharks_data_clean_filtered.head()"
   ]
  },
  {
   "cell_type": "code",
   "execution_count": 15,
   "id": "c81df655",
   "metadata": {},
   "outputs": [
    {
     "data": {
      "text/plain": [
       "<AxesSubplot:xlabel='Activity', ylabel='count'>"
      ]
     },
     "execution_count": 15,
     "metadata": {},
     "output_type": "execute_result"
    },
    {
     "data": {
      "image/png": "[encoded data removed]",
      "text/plain": [
       "<Figure size 432x288 with 1 Axes>"
      ]
     },
     "metadata": {
      "needs_background": "light"
     },
     "output_type": "display_data"
    }
   ],
   "source": [
    "sns.countplot(x=sharks_data_clean_filtered.Activity)"
   ]
  },
  {
   "cell_type": "markdown",
   "id": "b713d8f7",
   "metadata": {},
   "source": [
    "#### Se puede ver claramente que las actividades donde hay más exposición a potenciales ataques de tiburón es en el Surf y en la Natación. Sin embargo, tengo curiosidad por analizar como se divide este analisis en 5 paises concretos que son conocidos por buenas playas para el baño y practicar surf: USA, Australia, South Africa, Brazil, y New Zeland. Por lo tanto voy a crear un nuevo DF filtrado"
   ]
  },
  {
   "cell_type": "code",
   "execution_count": 49,
   "id": "2dbd408e",
   "metadata": {},
   "outputs": [],
   "source": [
    "sharks_data_clean_filtered_2 = sharks_data_clean_filtered.loc[(sharks_data_clean_filtered[\"Country\"] == \"USA\") | (sharks_data_clean_filtered[\"Country\"] == \"AUSTRALIA\") | (sharks_data_clean_filtered[\"Country\"] == \"SOUTH AFRICA\") | (sharks_data_clean_filtered[\"Country\"] == \"BRAZIL\") | (sharks_data_clean_filtered[\"Country\"] == \"NEW ZEALAND\")]"
   ]
  },
  {
   "cell_type": "code",
   "execution_count": 51,
   "id": "6b4ca409",
   "metadata": {},
   "outputs": [
    {
     "data": {
      "text/plain": [
       "<AxesSubplot:xlabel='Activity', ylabel='count'>"
      ]
     },
     "execution_count": 51,
     "metadata": {},
     "output_type": "execute_result"
    },
    {
     "data": {
      "image/png": "[encoded data removed]",
      "text/plain": [
       "<Figure size 432x288 with 1 Axes>"
      ]
     },
     "metadata": {
      "needs_background": "light"
     },
     "output_type": "display_data"
    }
   ],
   "source": [
    "sns.countplot(x=sharks_data_clean_filtered_2.Activity, hue = sharks_data_clean_filtered_2.Country)"
   ]
  },
  {
   "cell_type": "markdown",
   "id": "afc7f4ea",
   "metadata": {},
   "source": [
    "#### Se puede ver claramente que la mayoria de ataques de tiburones han ocurrido principalmente en USA y Australia. Tiene sentido con la hipotesis ya que tanto USA como Brazil tienen una gran extension de territorio costero donde habitan tiburones"
   ]
  },
  {
   "cell_type": "code",
   "execution_count": null,
   "id": "51664938",
   "metadata": {},
   "outputs": [],
   "source": []
  }
 ],
 "metadata": {
  "kernelspec": {
   "display_name": "ironhack",
   "language": "python",
   "name": "ironhack"
  },
  "language_info": {
   "codemirror_mode": {
    "name": "ipython",
    "version": 3
   },
   "file_extension": ".py",
   "mimetype": "text/x-python",
   "name": "python",
   "nbconvert_exporter": "python",
   "pygments_lexer": "ipython3",
   "version": "3.8.10"
  }
 },
 "nbformat": 4,
 "nbformat_minor": 5
}
